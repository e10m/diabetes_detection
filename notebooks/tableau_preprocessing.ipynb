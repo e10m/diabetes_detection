{
 "cells": [
  {
   "cell_type": "markdown",
   "metadata": {},
   "source": [
    "# Data Cleaning"
   ]
  },
  {
   "cell_type": "code",
   "execution_count": 1,
   "metadata": {},
   "outputs": [
    {
     "name": "stdout",
     "output_type": "stream",
     "text": [
      "(520, 17)\n"
     ]
    }
   ],
   "source": [
    "import pandas as pd\n",
    "import numpy as np\n",
    "\n",
    "df = pd.read_csv(\"./data/diabetes_data.csv\")\n",
    "\n",
    "# sanity check\n",
    "print(df.shape)"
   ]
  },
  {
   "cell_type": "code",
   "execution_count": 2,
   "metadata": {},
   "outputs": [
    {
     "name": "stdout",
     "output_type": "stream",
     "text": [
      "is_duplicate\n",
      "True     269\n",
      "False    251\n",
      "Name: count, dtype: int64\n"
     ]
    }
   ],
   "source": [
    "# check for duplicates\n",
    "df[\"is_duplicate\"] = df.duplicated()\n",
    "\n",
    "print(df[\"is_duplicate\"].value_counts())"
   ]
  },
  {
   "cell_type": "code",
   "execution_count": 3,
   "metadata": {},
   "outputs": [
    {
     "name": "stdout",
     "output_type": "stream",
     "text": [
      "(251, 18)\n"
     ]
    }
   ],
   "source": [
    "# drop duplicates\n",
    "df = df[df['is_duplicate'] == False]\n",
    "\n",
    "print(df.shape)"
   ]
  },
  {
   "cell_type": "code",
   "execution_count": 4,
   "metadata": {},
   "outputs": [
    {
     "name": "stdout",
     "output_type": "stream",
     "text": [
      "(251, 17)\n"
     ]
    }
   ],
   "source": [
    "# drop 'is_duplicate column'\n",
    "df = df.drop(labels=[\"is_duplicate\"], axis=1)\n",
    "\n",
    "print(df.shape)"
   ]
  },
  {
   "cell_type": "code",
   "execution_count": 5,
   "metadata": {},
   "outputs": [
    {
     "data": {
      "text/plain": [
       "Age                   False\n",
       "Gender                False\n",
       "Polyuria              False\n",
       "Polydipsia            False\n",
       "sudden weight loss    False\n",
       "weakness              False\n",
       "Polyphagia            False\n",
       "Genital thrush        False\n",
       "visual blurring       False\n",
       "Itching               False\n",
       "Irritability          False\n",
       "delayed healing       False\n",
       "partial paresis       False\n",
       "muscle stiffness      False\n",
       "Alopecia              False\n",
       "Obesity               False\n",
       "class                 False\n",
       "dtype: bool"
      ]
     },
     "execution_count": 5,
     "metadata": {},
     "output_type": "execute_result"
    }
   ],
   "source": [
    "# check for missing values\n",
    "df.isna().any()"
   ]
  },
  {
   "cell_type": "code",
   "execution_count": 6,
   "metadata": {},
   "outputs": [
    {
     "name": "stdout",
     "output_type": "stream",
     "text": [
      "Index([102], dtype='int64')\n",
      "(251, 17)\n",
      "(250, 17)\n"
     ]
    }
   ],
   "source": [
    "# check for any outliers\n",
    "# calculate IQR\n",
    "Q1 = df['Age'].quantile(0.25)\n",
    "Q3 = df['Age'].quantile(0.75)\n",
    "IQR = Q3 - Q1\n",
    "    \n",
    "# define bounds\n",
    "lower_bound = Q1 - 1.5 * IQR\n",
    "upper_bound = Q3 + 1.5 * IQR\n",
    "    \n",
    "# find outliers\n",
    "outliers = df[(df['Age'] < lower_bound) | (df['Age'] > upper_bound)]\n",
    "\n",
    "# sanity check and drop outliers\n",
    "print(outliers.index)\n",
    "print(df.shape)\n",
    "df.drop(labels=outliers.index, axis=0, inplace=True)\n",
    "print(df.shape)\n"
   ]
  },
  {
   "cell_type": "code",
   "execution_count": 7,
   "metadata": {},
   "outputs": [
    {
     "name": "stdout",
     "output_type": "stream",
     "text": [
      "['Gender', 'Polyuria', 'Polydipsia', 'sudden weight loss', 'weakness', 'Polyphagia', 'Genital thrush', 'visual blurring', 'Itching', 'Irritability', 'delayed healing', 'partial paresis', 'muscle stiffness', 'Alopecia', 'Obesity', 'class']\n"
     ]
    }
   ],
   "source": [
    "categories = []  # initialize empty list\n",
    "\n",
    "# append categorical features to a list\n",
    "for col in df.columns:\n",
    "    if df[col].dtype == 'object':\n",
    "        categories.append(col)\n",
    "\n",
    "print(categories)"
   ]
  },
  {
   "cell_type": "code",
   "execution_count": 8,
   "metadata": {},
   "outputs": [],
   "source": [
    "from sklearn.preprocessing import LabelEncoder\n",
    "\n",
    "# initialize label encoder and encode categories\n",
    "label_encoder = LabelEncoder()\n",
    "for category in categories:\n",
    "    df[f\"{category}_encoded\"] = label_encoder.fit_transform(df[category])\n",
    "\n",
    "# drop original columns\n",
    "df = df.drop(labels=categories, axis=1)"
   ]
  },
  {
   "cell_type": "code",
   "execution_count": 9,
   "metadata": {},
   "outputs": [
    {
     "name": "stdout",
     "output_type": "stream",
     "text": [
      "Index(['Age', 'Gender_encoded', 'Polyuria_encoded', 'Polydipsia_encoded',\n",
      "       'sudden weight loss_encoded', 'weakness_encoded', 'Polyphagia_encoded',\n",
      "       'Genital thrush_encoded', 'visual blurring_encoded', 'Itching_encoded',\n",
      "       'Irritability_encoded', 'delayed healing_encoded',\n",
      "       'partial paresis_encoded', 'muscle stiffness_encoded',\n",
      "       'Alopecia_encoded', 'Obesity_encoded', 'class_encoded'],\n",
      "      dtype='object')\n",
      "Index(['Age', 'Gender', 'Polyuria', 'Polydipsia', 'sudden weight loss',\n",
      "       'weakness', 'Polyphagia', 'Genital thrush', 'visual blurring',\n",
      "       'Itching', 'Irritability', 'delayed healing', 'partial paresis',\n",
      "       'muscle stiffness', 'Alopecia', 'Obesity', 'class'],\n",
      "      dtype='object')\n"
     ]
    }
   ],
   "source": [
    "# sanity check\n",
    "print(df.columns)\n",
    "\n",
    "# rename columns\n",
    "for category in categories:\n",
    "    df.rename(columns={f\"{category}_encoded\": category}, inplace=True)\n",
    "\n",
    "# sanity check\n",
    "print(df.columns)"
   ]
  },
  {
   "cell_type": "code",
   "execution_count": 10,
   "metadata": {},
   "outputs": [
    {
     "name": "stdout",
     "output_type": "stream",
     "text": [
      "     Age  Gender  Polyuria  Polydipsia  sudden weight loss  weakness  \\\n",
      "0     40       1         0           1                   0         1   \n",
      "1     58       1         0           0                   0         1   \n",
      "2     41       1         1           0                   0         1   \n",
      "3     45       1         0           0                   1         1   \n",
      "4     60       1         1           1                   1         1   \n",
      "..   ...     ...       ...         ...                 ...       ...   \n",
      "515   39       0         1           1                   1         0   \n",
      "516   48       0         1           1                   1         1   \n",
      "517   58       0         1           1                   1         1   \n",
      "518   32       0         0           0                   0         1   \n",
      "519   42       1         0           0                   0         0   \n",
      "\n",
      "     Polyphagia  Genital thrush  visual blurring  Itching  Irritability  \\\n",
      "0             0               0                0        1             0   \n",
      "1             0               0                1        0             0   \n",
      "2             1               0                0        1             0   \n",
      "3             1               1                0        1             0   \n",
      "4             1               0                1        1             1   \n",
      "..          ...             ...              ...      ...           ...   \n",
      "515           1               0                0        1             0   \n",
      "516           1               0                0        1             1   \n",
      "517           1               0                1        0             0   \n",
      "518           0               0                1        1             0   \n",
      "519           0               0                0        0             0   \n",
      "\n",
      "     delayed healing  partial paresis  muscle stiffness  Alopecia  Obesity  \\\n",
      "0                  1                0                 1         1        1   \n",
      "1                  0                1                 0         1        0   \n",
      "2                  1                0                 1         1        0   \n",
      "3                  1                0                 0         0        0   \n",
      "4                  1                1                 1         1        1   \n",
      "..               ...              ...               ...       ...      ...   \n",
      "515                1                1                 0         0        0   \n",
      "516                1                1                 0         0        0   \n",
      "517                0                1                 1         0        1   \n",
      "518                1                0                 0         1        0   \n",
      "519                0                0                 0         0        0   \n",
      "\n",
      "     class  \n",
      "0        1  \n",
      "1        1  \n",
      "2        1  \n",
      "3        1  \n",
      "4        1  \n",
      "..     ...  \n",
      "515      1  \n",
      "516      1  \n",
      "517      1  \n",
      "518      0  \n",
      "519      0  \n",
      "\n",
      "[250 rows x 17 columns]\n"
     ]
    }
   ],
   "source": [
    "print(df)"
   ]
  },
  {
   "cell_type": "code",
   "execution_count": 11,
   "metadata": {},
   "outputs": [],
   "source": [
    "# write data frame to a new csv file\n",
    "df.to_csv('./data/diabetes_data_for_tableau.csv', index=False)"
   ]
  }
 ],
 "metadata": {
  "kernelspec": {
   "display_name": "diabetes_prediction",
   "language": "python",
   "name": "python3"
  },
  "language_info": {
   "codemirror_mode": {
    "name": "ipython",
    "version": 3
   },
   "file_extension": ".py",
   "mimetype": "text/x-python",
   "name": "python",
   "nbconvert_exporter": "python",
   "pygments_lexer": "ipython3",
   "version": "3.8.19"
  }
 },
 "nbformat": 4,
 "nbformat_minor": 2
}
